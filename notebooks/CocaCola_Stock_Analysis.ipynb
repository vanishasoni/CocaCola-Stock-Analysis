{
 "cells": [
  {
   "cell_type": "markdown",
   "metadata": {},
   "source": [
    "# 🧃 Coca-Cola Stock Analysis\n",
    "### Exploratory Data Analysis (EDA) Project"
   ]
  },
  {
   "cell_type": "code",
   "execution_count": 9,
   "metadata": {},
   "outputs": [],
   "source": [
    "import pandas as pd\n",
    "import numpy as np\n",
    "import matplotlib.pyplot as plt\n",
    "import seaborn as sns\n",
    "sns.set_style('whitegrid')\n",
    "plt.style.use('fivethirtyeight')"
   ]
  },
  {
   "cell_type": "markdown",
   "metadata": {},
   "source": [
    "## 📂 Load Data"
   ]
  },
  {
   "cell_type": "code",
   "execution_count": 10,
   "metadata": {},
   "outputs": [
    {
     "name": "stdout",
     "output_type": "stream",
     "text": [
      "History shape: (15311, 8)\n",
      "Info shape: (153, 2)\n"
     ]
    },
    {
     "data": {
      "text/html": [
       "<div>\n",
       "<style scoped>\n",
       "    .dataframe tbody tr th:only-of-type {\n",
       "        vertical-align: middle;\n",
       "    }\n",
       "\n",
       "    .dataframe tbody tr th {\n",
       "        vertical-align: top;\n",
       "    }\n",
       "\n",
       "    .dataframe thead th {\n",
       "        text-align: right;\n",
       "    }\n",
       "</style>\n",
       "<table border=\"1\" class=\"dataframe\">\n",
       "  <thead>\n",
       "    <tr style=\"text-align: right;\">\n",
       "      <th></th>\n",
       "      <th>Date</th>\n",
       "      <th>Open</th>\n",
       "      <th>High</th>\n",
       "      <th>Low</th>\n",
       "      <th>Close</th>\n",
       "      <th>Volume</th>\n",
       "      <th>Dividends</th>\n",
       "      <th>Stock Splits</th>\n",
       "    </tr>\n",
       "  </thead>\n",
       "  <tbody>\n",
       "    <tr>\n",
       "      <th>0</th>\n",
       "      <td>1962-01-02</td>\n",
       "      <td>0.050016</td>\n",
       "      <td>0.051378</td>\n",
       "      <td>0.050016</td>\n",
       "      <td>0.050016</td>\n",
       "      <td>806400</td>\n",
       "      <td>0.0</td>\n",
       "      <td>0</td>\n",
       "    </tr>\n",
       "    <tr>\n",
       "      <th>1</th>\n",
       "      <td>1962-01-03</td>\n",
       "      <td>0.049273</td>\n",
       "      <td>0.049273</td>\n",
       "      <td>0.048159</td>\n",
       "      <td>0.048902</td>\n",
       "      <td>1574400</td>\n",
       "      <td>0.0</td>\n",
       "      <td>0</td>\n",
       "    </tr>\n",
       "    <tr>\n",
       "      <th>2</th>\n",
       "      <td>1962-01-04</td>\n",
       "      <td>0.049026</td>\n",
       "      <td>0.049645</td>\n",
       "      <td>0.049026</td>\n",
       "      <td>0.049273</td>\n",
       "      <td>844800</td>\n",
       "      <td>0.0</td>\n",
       "      <td>0</td>\n",
       "    </tr>\n",
       "    <tr>\n",
       "      <th>3</th>\n",
       "      <td>1962-01-05</td>\n",
       "      <td>0.049273</td>\n",
       "      <td>0.049892</td>\n",
       "      <td>0.048035</td>\n",
       "      <td>0.048159</td>\n",
       "      <td>1420800</td>\n",
       "      <td>0.0</td>\n",
       "      <td>0</td>\n",
       "    </tr>\n",
       "    <tr>\n",
       "      <th>4</th>\n",
       "      <td>1962-01-08</td>\n",
       "      <td>0.047787</td>\n",
       "      <td>0.047787</td>\n",
       "      <td>0.046735</td>\n",
       "      <td>0.047664</td>\n",
       "      <td>2035200</td>\n",
       "      <td>0.0</td>\n",
       "      <td>0</td>\n",
       "    </tr>\n",
       "  </tbody>\n",
       "</table>\n",
       "</div>"
      ],
      "text/plain": [
       "         Date      Open      High       Low     Close   Volume  Dividends  \\\n",
       "0  1962-01-02  0.050016  0.051378  0.050016  0.050016   806400        0.0   \n",
       "1  1962-01-03  0.049273  0.049273  0.048159  0.048902  1574400        0.0   \n",
       "2  1962-01-04  0.049026  0.049645  0.049026  0.049273   844800        0.0   \n",
       "3  1962-01-05  0.049273  0.049892  0.048035  0.048159  1420800        0.0   \n",
       "4  1962-01-08  0.047787  0.047787  0.046735  0.047664  2035200        0.0   \n",
       "\n",
       "   Stock Splits  \n",
       "0             0  \n",
       "1             0  \n",
       "2             0  \n",
       "3             0  \n",
       "4             0  "
      ]
     },
     "execution_count": 10,
     "metadata": {},
     "output_type": "execute_result"
    }
   ],
   "source": [
    "history = pd.read_csv(r'C:\\Users\\vanis\\Downloads\\CocaCola-Stock-Analysis\\data/Coca-Cola_stock_history.csv')\n",
    "info = pd.read_csv(r'C:\\Users\\vanis\\Downloads\\CocaCola-Stock-Analysis\\data/Coca-Cola_stock_info.csv')\n",
    "print('History shape:', history.shape)\n",
    "print('Info shape:', info.shape)\n",
    "history.head()"
   ]
  },
  {
   "cell_type": "markdown",
   "metadata": {},
   "source": [
    "## 🧹 Data Cleaning"
   ]
  },
  {
   "cell_type": "code",
   "execution_count": 11,
   "metadata": {},
   "outputs": [
    {
     "name": "stdout",
     "output_type": "stream",
     "text": [
      "Date            0\n",
      "Open            0\n",
      "High            0\n",
      "Low             0\n",
      "Close           0\n",
      "Volume          0\n",
      "Dividends       0\n",
      "Stock Splits    0\n",
      "dtype: int64\n",
      "<class 'pandas.core.frame.DataFrame'>\n",
      "RangeIndex: 15311 entries, 0 to 15310\n",
      "Data columns (total 8 columns):\n",
      " #   Column        Non-Null Count  Dtype  \n",
      "---  ------        --------------  -----  \n",
      " 0   Date          15311 non-null  object \n",
      " 1   Open          15311 non-null  float64\n",
      " 2   High          15311 non-null  float64\n",
      " 3   Low           15311 non-null  float64\n",
      " 4   Close         15311 non-null  float64\n",
      " 5   Volume        15311 non-null  int64  \n",
      " 6   Dividends     15311 non-null  float64\n",
      " 7   Stock Splits  15311 non-null  int64  \n",
      "dtypes: float64(5), int64(2), object(1)\n",
      "memory usage: 957.1+ KB\n"
     ]
    },
    {
     "name": "stderr",
     "output_type": "stream",
     "text": [
      "C:\\Users\\vanis\\AppData\\Local\\Temp\\ipykernel_41568\\952930189.py:2: FutureWarning: DataFrame.fillna with 'method' is deprecated and will raise in a future version. Use obj.ffill() or obj.bfill() instead.\n",
      "  history.fillna(method='ffill', inplace=True)\n"
     ]
    }
   ],
   "source": [
    "print(history.isnull().sum())\n",
    "history.fillna(method='ffill', inplace=True)\n",
    "history.dropna(inplace=True)\n",
    "history.info()"
   ]
  },
  {
   "cell_type": "markdown",
   "metadata": {},
   "source": [
    "## 📊 Summary Statistics"
   ]
  },
  {
   "cell_type": "code",
   "execution_count": 12,
   "metadata": {},
   "outputs": [
    {
     "data": {
      "text/html": [
       "<div>\n",
       "<style scoped>\n",
       "    .dataframe tbody tr th:only-of-type {\n",
       "        vertical-align: middle;\n",
       "    }\n",
       "\n",
       "    .dataframe tbody tr th {\n",
       "        vertical-align: top;\n",
       "    }\n",
       "\n",
       "    .dataframe thead th {\n",
       "        text-align: right;\n",
       "    }\n",
       "</style>\n",
       "<table border=\"1\" class=\"dataframe\">\n",
       "  <thead>\n",
       "    <tr style=\"text-align: right;\">\n",
       "      <th></th>\n",
       "      <th>Open</th>\n",
       "      <th>High</th>\n",
       "      <th>Low</th>\n",
       "      <th>Close</th>\n",
       "      <th>Volume</th>\n",
       "      <th>Dividends</th>\n",
       "      <th>Stock Splits</th>\n",
       "    </tr>\n",
       "  </thead>\n",
       "  <tbody>\n",
       "    <tr>\n",
       "      <th>count</th>\n",
       "      <td>15311.000000</td>\n",
       "      <td>15311.000000</td>\n",
       "      <td>15311.000000</td>\n",
       "      <td>15311.000000</td>\n",
       "      <td>1.531100e+04</td>\n",
       "      <td>15311.000000</td>\n",
       "      <td>15311.000000</td>\n",
       "    </tr>\n",
       "    <tr>\n",
       "      <th>mean</th>\n",
       "      <td>11.812883</td>\n",
       "      <td>11.906708</td>\n",
       "      <td>11.717375</td>\n",
       "      <td>11.815409</td>\n",
       "      <td>9.139213e+06</td>\n",
       "      <td>0.001678</td>\n",
       "      <td>0.001110</td>\n",
       "    </tr>\n",
       "    <tr>\n",
       "      <th>std</th>\n",
       "      <td>15.025726</td>\n",
       "      <td>15.133336</td>\n",
       "      <td>14.915580</td>\n",
       "      <td>15.026316</td>\n",
       "      <td>7.957947e+06</td>\n",
       "      <td>0.021302</td>\n",
       "      <td>0.049148</td>\n",
       "    </tr>\n",
       "    <tr>\n",
       "      <th>min</th>\n",
       "      <td>0.037154</td>\n",
       "      <td>0.037279</td>\n",
       "      <td>0.034890</td>\n",
       "      <td>0.037028</td>\n",
       "      <td>7.680000e+04</td>\n",
       "      <td>0.000000</td>\n",
       "      <td>0.000000</td>\n",
       "    </tr>\n",
       "    <tr>\n",
       "      <th>25%</th>\n",
       "      <td>0.238453</td>\n",
       "      <td>0.240305</td>\n",
       "      <td>0.236415</td>\n",
       "      <td>0.238312</td>\n",
       "      <td>2.889600e+06</td>\n",
       "      <td>0.000000</td>\n",
       "      <td>0.000000</td>\n",
       "    </tr>\n",
       "    <tr>\n",
       "      <th>50%</th>\n",
       "      <td>4.935146</td>\n",
       "      <td>4.980985</td>\n",
       "      <td>4.884242</td>\n",
       "      <td>4.937339</td>\n",
       "      <td>7.708800e+06</td>\n",
       "      <td>0.000000</td>\n",
       "      <td>0.000000</td>\n",
       "    </tr>\n",
       "    <tr>\n",
       "      <th>75%</th>\n",
       "      <td>17.383926</td>\n",
       "      <td>17.612844</td>\n",
       "      <td>17.168283</td>\n",
       "      <td>17.415106</td>\n",
       "      <td>1.307130e+07</td>\n",
       "      <td>0.000000</td>\n",
       "      <td>0.000000</td>\n",
       "    </tr>\n",
       "    <tr>\n",
       "      <th>max</th>\n",
       "      <td>66.037933</td>\n",
       "      <td>66.235058</td>\n",
       "      <td>64.776308</td>\n",
       "      <td>65.259270</td>\n",
       "      <td>1.241690e+08</td>\n",
       "      <td>0.440000</td>\n",
       "      <td>3.000000</td>\n",
       "    </tr>\n",
       "  </tbody>\n",
       "</table>\n",
       "</div>"
      ],
      "text/plain": [
       "               Open          High           Low         Close        Volume  \\\n",
       "count  15311.000000  15311.000000  15311.000000  15311.000000  1.531100e+04   \n",
       "mean      11.812883     11.906708     11.717375     11.815409  9.139213e+06   \n",
       "std       15.025726     15.133336     14.915580     15.026316  7.957947e+06   \n",
       "min        0.037154      0.037279      0.034890      0.037028  7.680000e+04   \n",
       "25%        0.238453      0.240305      0.236415      0.238312  2.889600e+06   \n",
       "50%        4.935146      4.980985      4.884242      4.937339  7.708800e+06   \n",
       "75%       17.383926     17.612844     17.168283     17.415106  1.307130e+07   \n",
       "max       66.037933     66.235058     64.776308     65.259270  1.241690e+08   \n",
       "\n",
       "          Dividends  Stock Splits  \n",
       "count  15311.000000  15311.000000  \n",
       "mean       0.001678      0.001110  \n",
       "std        0.021302      0.049148  \n",
       "min        0.000000      0.000000  \n",
       "25%        0.000000      0.000000  \n",
       "50%        0.000000      0.000000  \n",
       "75%        0.000000      0.000000  \n",
       "max        0.440000      3.000000  "
      ]
     },
     "execution_count": 12,
     "metadata": {},
     "output_type": "execute_result"
    }
   ],
   "source": [
    "history.describe()"
   ]
  },
  {
   "cell_type": "markdown",
   "metadata": {},
   "source": [
    "## 📈 Visualizations"
   ]
  },
  {
   "cell_type": "code",
   "execution_count": null,
   "metadata": {},
   "outputs": [],
   "source": [
    "plt.figure(figsize=(12,6))\n",
    "plt.plot(history['Date'], history['Close'], label='Close Price')\n",
    "plt.title('Coca-Cola Closing Price Over Time')\n",
    "plt.xlabel('Date')\n",
    "plt.ylabel('Close Price')\n",
    "plt.legend()\n",
    "plt.show()"
   ]
  },
  {
   "cell_type": "code",
   "execution_count": null,
   "metadata": {},
   "outputs": [],
   "source": [
    "history['MA_20'] = history['Close'].rolling(window=20).mean()\n",
    "history['MA_50'] = history['Close'].rolling(window=50).mean()\n",
    "plt.figure(figsize=(12,6))\n",
    "plt.plot(history['Date'], history['Close'], label='Close', color='blue')\n",
    "plt.plot(history['Date'], history['MA_20'], label='MA 20', linestyle='--')\n",
    "plt.plot(history['Date'], history['MA_50'], label='MA 50', linestyle='--')\n",
    "plt.title('Coca-Cola Moving Averages')\n",
    "plt.legend()\n",
    "plt.show()"
   ]
  },
  {
   "cell_type": "code",
   "execution_count": null,
   "metadata": {},
   "outputs": [],
   "source": [
    "plt.figure(figsize=(10,6))\n",
    "sns.heatmap(history.corr(), annot=True, cmap='coolwarm')\n",
    "plt.title('Correlation Heatmap')\n",
    "plt.show()"
   ]
  },
  {
   "cell_type": "markdown",
   "metadata": {},
   "source": [
    "## 💡 Insights\n",
    "- Coca-Cola stock has shown consistent upward trends with periodic fluctuations.\n",
    "- Moving averages help identify long-term trends.\n",
    "- Volume indicates active trading periods.\n",
    "- Strong correlation between Open, High, Low, and Close values."
   ]
  },
  {
   "cell_type": "code",
   "execution_count": null,
   "metadata": {},
   "outputs": [],
   "source": []
  }
 ],
 "metadata": {
  "kernelspec": {
   "display_name": "Python 3 (ipykernel)",
   "language": "python",
   "name": "python3"
  },
  "language_info": {
   "codemirror_mode": {
    "name": "ipython",
    "version": 3
   },
   "file_extension": ".py",
   "mimetype": "text/x-python",
   "name": "python",
   "nbconvert_exporter": "python",
   "pygments_lexer": "ipython3",
   "version": "3.11.7"
  }
 },
 "nbformat": 4,
 "nbformat_minor": 2
}
